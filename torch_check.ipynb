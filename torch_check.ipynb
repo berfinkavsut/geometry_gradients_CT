{
 "cells": [
  {
   "cell_type": "code",
   "execution_count": null,
   "id": "initial_id",
   "metadata": {
    "ExecuteTime": {
     "end_time": "2024-08-16T14:16:36.472496Z",
     "start_time": "2024-08-16T14:16:36.468117Z"
    },
    "collapsed": true
   },
   "outputs": [
    {
     "name": "stdout",
     "output_type": "stream",
     "text": [
      "CUDA Toolkit Version: 11.6\n",
      "8302\n",
      "True\n",
      "0\n",
      "<torch.cuda.device object at 0x0000028B0A839E80>\n",
      "1\n",
      "NVIDIA GeForce RTX 3080 Laptop GPU\n"
     ]
    }
   ],
   "source": [
    "# Check CUDA Toolkit version\n",
    "# install torch: pip install torch torchvision torchaudio --index-url https://download.pytorch.org/whl/cu117\n",
    "\n",
    "import torch\n",
    "cuda_version = torch.version.cuda\n",
    "print(\"CUDA Toolkit Version:\", cuda_version)  #'11.6'\n",
    "print(torch.backends.cudnn.version())         # 8500\n",
    "print(torch.cuda.is_available())              # True\n",
    "print(torch.cuda.current_device())            # 0\n",
    "print(torch.cuda.device(0))                   # <torch.cuda.device object at 0x0000028B0A839E80>\n",
    "print(torch.cuda.device_count())              # 1\n",
    "print(torch.cuda.get_device_name(0))          # 'NVIDIA GeForce RTX 3080 Laptop GPU'\n"
   ]
  }
 ],
 "metadata": {
  "kernelspec": {
   "display_name": "env39",
   "language": "python",
   "name": "python3"
  },
  "language_info": {
   "codemirror_mode": {
    "name": "ipython",
    "version": 3
   },
   "file_extension": ".py",
   "mimetype": "text/x-python",
   "name": "python",
   "nbconvert_exporter": "python",
   "pygments_lexer": "ipython3",
   "version": "3.9.0rc2"
  }
 },
 "nbformat": 4,
 "nbformat_minor": 5
}
